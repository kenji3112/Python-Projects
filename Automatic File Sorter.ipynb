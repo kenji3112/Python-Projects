{
 "cells": [
  {
   "cell_type": "markdown",
   "id": "39dd68dd",
   "metadata": {},
   "source": [
    "# Automatic File Sorter in File Explorer"
   ]
  },
  {
   "cell_type": "code",
   "execution_count": 28,
   "id": "48c97a5d",
   "metadata": {},
   "outputs": [],
   "source": [
    "import os, shutil"
   ]
  },
  {
   "cell_type": "code",
   "execution_count": 29,
   "id": "66a33aea",
   "metadata": {},
   "outputs": [],
   "source": [
    "path = r\"C:/Users\\kenji/OneDrive/Desktop/Python Tutorials/\""
   ]
  },
  {
   "cell_type": "code",
   "execution_count": 30,
   "id": "999929f5",
   "metadata": {},
   "outputs": [],
   "source": [
    "file_name = os.listdir(path)"
   ]
  },
  {
   "cell_type": "code",
   "execution_count": 32,
   "id": "9f58ac03",
   "metadata": {},
   "outputs": [],
   "source": [
    "folder_names = ['csv files', 'image files', 'text files']\n",
    "\n",
    "for loop in range(0,3):\n",
    " if not os.path.exists(path + folder_names[loop]):\n",
    "    os.makedirs(path + folder_names[loop])\n",
    "for file in file_name:\n",
    "    if \".csv\" in file and not os.path.exists(path + \"/csv files/\" + file):\n",
    "        shutil.move(path + file, path + \"csv files/\" + file)\n",
    "    elif \".jpg\" in file and not os.path.exists(path + \"/image files/\" + file):\n",
    "        shutil.move(path + file, path + \"image files/\" + file)\n",
    "    elif \".txt\" in file and not os.path.exists(path + \"/text files/\" + file):\n",
    "        shutil.move(path + file, path + \"text files/\" + file)\n",
    "   \n"
   ]
  },
  {
   "cell_type": "code",
   "execution_count": 27,
   "id": "0ee8dae4",
   "metadata": {},
   "outputs": [],
   "source": []
  },
  {
   "cell_type": "code",
   "execution_count": null,
   "id": "38d812bb",
   "metadata": {},
   "outputs": [],
   "source": []
  }
 ],
 "metadata": {
  "kernelspec": {
   "display_name": "Python 3 (ipykernel)",
   "language": "python",
   "name": "python3"
  },
  "language_info": {
   "codemirror_mode": {
    "name": "ipython",
    "version": 3
   },
   "file_extension": ".py",
   "mimetype": "text/x-python",
   "name": "python",
   "nbconvert_exporter": "python",
   "pygments_lexer": "ipython3",
   "version": "3.11.7"
  }
 },
 "nbformat": 4,
 "nbformat_minor": 5
}
