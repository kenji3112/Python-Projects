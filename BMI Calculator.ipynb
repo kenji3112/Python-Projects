{
 "cells": [
  {
   "cell_type": "markdown",
   "id": "dddc2ccf",
   "metadata": {},
   "source": [
    "# BMI Calculator"
   ]
  },
  {
   "cell_type": "code",
   "execution_count": 5,
   "id": "c96ba701",
   "metadata": {},
   "outputs": [
    {
     "name": "stdout",
     "output_type": "stream",
     "text": [
      "Enter your weight in pounds : 170\n",
      "Enter your height in inches : 69\n",
      "Your BMI is 25.101869355177485 and you're Overweight\n"
     ]
    }
   ],
   "source": [
    "weight = int(input(\"Enter your weight in pounds : \"))\n",
    "\n",
    "height = int(input(\"Enter your height in inches : \"))\n",
    "\n",
    "BMI = (weight * 703) / (height * height)\n",
    "\n",
    "if(BMI < 18.5):\n",
    "    print(\"Your BMI is \" + str(BMI) + \" and you're Underweight\")\n",
    "elif(BMI >= 18.5 and BMI <= 24.9):\n",
    "    print(\"Your BMI is \" + str(BMI) + \" and you're Normal Weight\")\n",
    "elif(BMI >= 25 and BMI <= 29.9):\n",
    "    print(\"Your BMI is \" + str(BMI) + \" and you're Overweight\")\n",
    "elif(BMI >= 30 and BMI <= 34.9):\n",
    "    print(\"Your BMI is \" + str(BMI) + \" and you're Obese\")\n",
    "elif(BMI >= 35 and BMI <= 39.9):\n",
    "    print(\"Your BMI is \" + str(BMI) + \" and you're Severly Obese\")\n",
    "else:\n",
    "    print(\"Your BMI is \" + str(BMI) + \" and you're Morbidly Obese\")\n",
    "        \n",
    "    \n",
    "        \n",
    "    \n",
    "      \n",
    "\n",
    "\n",
    "\n",
    "\n"
   ]
  },
  {
   "cell_type": "code",
   "execution_count": null,
   "id": "b2b5f476",
   "metadata": {},
   "outputs": [],
   "source": []
  },
  {
   "cell_type": "code",
   "execution_count": null,
   "id": "6d449820",
   "metadata": {},
   "outputs": [],
   "source": []
  },
  {
   "cell_type": "code",
   "execution_count": null,
   "id": "b06bcd43",
   "metadata": {},
   "outputs": [],
   "source": []
  },
  {
   "cell_type": "code",
   "execution_count": null,
   "id": "a5125e13",
   "metadata": {},
   "outputs": [],
   "source": []
  },
  {
   "cell_type": "code",
   "execution_count": null,
   "id": "b4a4848a",
   "metadata": {},
   "outputs": [],
   "source": []
  }
 ],
 "metadata": {
  "kernelspec": {
   "display_name": "Python 3 (ipykernel)",
   "language": "python",
   "name": "python3"
  },
  "language_info": {
   "codemirror_mode": {
    "name": "ipython",
    "version": 3
   },
   "file_extension": ".py",
   "mimetype": "text/x-python",
   "name": "python",
   "nbconvert_exporter": "python",
   "pygments_lexer": "ipython3",
   "version": "3.11.7"
  }
 },
 "nbformat": 4,
 "nbformat_minor": 5
}
